{
    "cells": [
        {
            "cell_type": "markdown",
            "metadata": {
                "collapsed": true
            },
            "source": "The goal of this project is to create a program that looks at the top 200 US cities (by population) and compares them all using location data from Foursquare. From there, the goal would be for a user to be able to see which cities are the most similar. This would have value for both personal users, who perhaps want to find a new city to live in, or for business owners who might be thinking of expanding their business to cities with similar interests."
        },
        {
            "cell_type": "markdown",
            "metadata": {},
            "source": "I will need the following data to complete this: \n    \n    - Top 200 US cities by population\n    - \"Top picks\" for things to do in each of those locations from Foursquare.\n    - Using the 100 most popular things to do in each city, I will be able to use machine learning to generate clusters of cities based on their venue similarities\n     "
        },
        {
            "cell_type": "code",
            "execution_count": null,
            "metadata": {},
            "outputs": [],
            "source": ""
        }
    ],
    "metadata": {
        "kernelspec": {
            "display_name": "Python 3.6",
            "language": "python",
            "name": "python3"
        },
        "language_info": {
            "codemirror_mode": {
                "name": "ipython",
                "version": 3
            },
            "file_extension": ".py",
            "mimetype": "text/x-python",
            "name": "python",
            "nbconvert_exporter": "python",
            "pygments_lexer": "ipython3",
            "version": "3.6.9"
        }
    },
    "nbformat": 4,
    "nbformat_minor": 1
}